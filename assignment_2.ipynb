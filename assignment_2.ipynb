{
 "cells": [
  {
   "cell_type": "code",
   "execution_count": null,
   "id": "d93e0828",
   "metadata": {},
   "outputs": [],
   "source": [
    "# q1. What are the two values of the Boolean data type? How do you write them?"
   ]
  },
  {
   "cell_type": "code",
   "execution_count": null,
   "id": "e0e5d6a9",
   "metadata": {},
   "outputs": [],
   "source": [
    "#q1 answer:\n",
    "True and False are two values of boolean data type.\n",
    "We will write them as i have mentioned here True and False:"
   ]
  },
  {
   "cell_type": "code",
   "execution_count": null,
   "id": "e9dbe2ab",
   "metadata": {},
   "outputs": [],
   "source": [
    "# q2. What are the three different types of Boolean operators?"
   ]
  },
  {
   "cell_type": "code",
   "execution_count": null,
   "id": "ec2c9fe0",
   "metadata": {},
   "outputs": [],
   "source": [
    "#q2 answer\n",
    "1. Comparison operators(==, !=, <, >, <=, >=)\n",
    "2. Binary boolean operators ('and', 'or')\n",
    "3. Not operator (not)"
   ]
  },
  {
   "cell_type": "code",
   "execution_count": null,
   "id": "1e3f14f2",
   "metadata": {},
   "outputs": [],
   "source": [
    "#q3. Make a list of each Boolean operator's truth tables (i.e. every possible combination of Boolean\n",
    "# values for the operator and what it evaluate )."
   ]
  },
  {
   "cell_type": "code",
   "execution_count": 1,
   "id": "4f8148e2",
   "metadata": {},
   "outputs": [
    {
     "name": "stdout",
     "output_type": "stream",
     "text": [
      "False\n",
      "True\n",
      "True\n",
      "False\n",
      "True\n",
      "False\n"
     ]
    }
   ],
   "source": [
    "#q3 answer:\n",
    "a = 6\n",
    "b = 10\n",
    "print(a == b)\n",
    "print(a != b)\n",
    "print(a < b)\n",
    "print(a > b)\n",
    "print(a <= b)\n",
    "print(a >= b)"
   ]
  },
  {
   "cell_type": "code",
   "execution_count": 2,
   "id": "e49f2399",
   "metadata": {},
   "outputs": [
    {
     "name": "stdout",
     "output_type": "stream",
     "text": [
      "True\n",
      "True\n",
      "True\n",
      "False\n"
     ]
    }
   ],
   "source": [
    "print(True or True)\n",
    "print(True or False)\n",
    "print(False or True)\n",
    "print(False or False)"
   ]
  },
  {
   "cell_type": "code",
   "execution_count": 3,
   "id": "0970503e",
   "metadata": {},
   "outputs": [
    {
     "name": "stdout",
     "output_type": "stream",
     "text": [
      "True\n",
      "False\n",
      "False\n",
      "False\n"
     ]
    }
   ],
   "source": [
    "print(True and True)\n",
    "print(True and False)\n",
    "print(False and True)\n",
    "print(False and False)"
   ]
  },
  {
   "cell_type": "code",
   "execution_count": 4,
   "id": "c0b8b30e",
   "metadata": {},
   "outputs": [
    {
     "name": "stdout",
     "output_type": "stream",
     "text": [
      "False\n",
      "True\n"
     ]
    }
   ],
   "source": [
    "print(not(True))\n",
    "print(not(False))"
   ]
  },
  {
   "cell_type": "code",
   "execution_count": null,
   "id": "bd807262",
   "metadata": {},
   "outputs": [],
   "source": [
    "#4. What are the values of the following expressions?\n",
    "(5 > 4) and (3 == 5)\n",
    "not (5 > 4)\n",
    "(5 > 4) or (3 == 5)\n",
    "not ((5 > 4) or (3 == 5))\n",
    "(True and True) and (True == False)\n",
    "(not False) or (not True)"
   ]
  },
  {
   "cell_type": "code",
   "execution_count": null,
   "id": "b69db9c1",
   "metadata": {},
   "outputs": [],
   "source": [
    "#q4 answer:\n"
   ]
  },
  {
   "cell_type": "code",
   "execution_count": 5,
   "id": "f8319f93",
   "metadata": {},
   "outputs": [
    {
     "name": "stdout",
     "output_type": "stream",
     "text": [
      "False\n"
     ]
    }
   ],
   "source": [
    "print((5 > 4) and (3 == 5)) #this will execute False as first expression gives True and second expression \n",
    "# gives False. True and False always gives False"
   ]
  },
  {
   "cell_type": "code",
   "execution_count": 6,
   "id": "e1ef1ce4",
   "metadata": {},
   "outputs": [
    {
     "name": "stdout",
     "output_type": "stream",
     "text": [
      "False\n"
     ]
    }
   ],
   "source": [
    "print(not (5 > 4)) #This will execute False as (5>4) is True. not(True) is False."
   ]
  },
  {
   "cell_type": "code",
   "execution_count": 7,
   "id": "94add8be",
   "metadata": {},
   "outputs": [
    {
     "name": "stdout",
     "output_type": "stream",
     "text": [
      "True\n"
     ]
    }
   ],
   "source": [
    "print((5 > 4) or (3 == 5)) #this will execute True. (5>4) will be True and (3 == 5) will be False. \n",
    "# So True or False will always return True"
   ]
  },
  {
   "cell_type": "code",
   "execution_count": 8,
   "id": "cd3e6caa",
   "metadata": {},
   "outputs": [
    {
     "name": "stdout",
     "output_type": "stream",
     "text": [
      "False\n"
     ]
    }
   ],
   "source": [
    "print(not ((5 > 4) or (3 == 5))) #this expression will print False. (5>4) will return True. (3 == 5) \n",
    "#will return False. True or False will return True. not(True) will return False"
   ]
  },
  {
   "cell_type": "code",
   "execution_count": 9,
   "id": "0334bddb",
   "metadata": {},
   "outputs": [
    {
     "name": "stdout",
     "output_type": "stream",
     "text": [
      "False\n"
     ]
    }
   ],
   "source": [
    "print((True and True) and (True == False)) #This expression will return False. (True and True) will return True. \n",
    "# (True == False) will return False. True and False will return False."
   ]
  },
  {
   "cell_type": "code",
   "execution_count": 11,
   "id": "a07ceae2",
   "metadata": {},
   "outputs": [
    {
     "name": "stdout",
     "output_type": "stream",
     "text": [
      "True\n"
     ]
    }
   ],
   "source": [
    "print((not False) or (not True)) #This will return True. (not False) will give True. (not True) will give False.\n",
    "# True or False always gives True"
   ]
  },
  {
   "cell_type": "code",
   "execution_count": null,
   "id": "7e5003dc",
   "metadata": {},
   "outputs": [],
   "source": [
    "#q5. What are the six comparison operators?"
   ]
  },
  {
   "cell_type": "code",
   "execution_count": null,
   "id": "e00df710",
   "metadata": {},
   "outputs": [],
   "source": [
    "#q5 answer:\n",
    "Below are the six comparison operators:\n",
    "    1. == (Equal to)\n",
    "    2. != (Not Equal)\n",
    "    3. < (Less than)\n",
    "    4. > (Greater than)\n",
    "    5. <= (Less than or equal to)\n",
    "    6. >= (Greater than or equal to)"
   ]
  },
  {
   "cell_type": "code",
   "execution_count": null,
   "id": "699432f8",
   "metadata": {},
   "outputs": [],
   "source": [
    "#6. How do you tell the difference between the equal to and assignment operators?Describe a\n",
    "# condition and when you would use one."
   ]
  },
  {
   "cell_type": "code",
   "execution_count": null,
   "id": "d26960a4",
   "metadata": {},
   "outputs": [],
   "source": [
    "#6 answer:\n",
    "equal to operator(==) checks whether both values on either side of this opearator are equal or not. If they are \n",
    "equal, it will return True else it will return False.\n",
    "in case of 56 == 89, it will return False as 56 is not equal to 89\n",
    "\n",
    "assignment operator(=) assigns a value to a variable. Like when a = 90 means 90 value is assigned to variable a. \n",
    "So when we will print this we will get output as 90 "
   ]
  },
  {
   "cell_type": "code",
   "execution_count": null,
   "id": "0cc6d184",
   "metadata": {},
   "outputs": [],
   "source": [
    "#q7. Identify the three blocks in this code:\n",
    "spam = 0\n",
    "if spam == 10:\n",
    "print('eggs')\n",
    "if spam > 5:\n",
    "print('bacon')\n",
    "else:\n",
    "print('ham')\n",
    "print('spam')\n",
    "print('spam')"
   ]
  },
  {
   "cell_type": "code",
   "execution_count": null,
   "id": "397a25af",
   "metadata": {},
   "outputs": [],
   "source": [
    "#q7 answer:\n",
    "spam = 0\n",
    "if spam == 10:\n",
    "print('eggs') #This is one block\n",
    "if spam > 5:\n",
    "print('bacon') #This is second block\n",
    "else:\n",
    "print('ham')\n",
    "print('spam')\n",
    "print('spam')\n",
    "#These upper three print statements comes under one block"
   ]
  },
  {
   "cell_type": "code",
   "execution_count": null,
   "id": "e0d6cba6",
   "metadata": {},
   "outputs": [],
   "source": [
    "#q8: Write code that prints Hello if 1 is stored in spam, prints Howdy if 2 is stored in spam, and prints\n",
    "# Greetings! if anything else is stored in spam."
   ]
  },
  {
   "cell_type": "code",
   "execution_count": 34,
   "id": "b60412d3",
   "metadata": {},
   "outputs": [
    {
     "name": "stdout",
     "output_type": "stream",
     "text": [
      "Enter a number: 1\n",
      "Hello\n"
     ]
    }
   ],
   "source": [
    "#q8 answer:\n",
    "spam = int(input(\"Enter a number: \"))\n",
    "if (spam == 1) :\n",
    "    print('Hello')\n",
    "    #break\n",
    "elif (spam == 2) :\n",
    "    print('Howdy')\n",
    "else :\n",
    "    print('Greetings')\n"
   ]
  },
  {
   "cell_type": "code",
   "execution_count": null,
   "id": "31c99078",
   "metadata": {},
   "outputs": [],
   "source": [
    "#q9.If your programme is stuck in an endless loop, what keys you’ll press?"
   ]
  },
  {
   "cell_type": "code",
   "execution_count": null,
   "id": "9b3220cc",
   "metadata": {},
   "outputs": [],
   "source": [
    "#q9 answer: We will press 'interrupt the kernel' key"
   ]
  },
  {
   "cell_type": "code",
   "execution_count": null,
   "id": "900898c5",
   "metadata": {},
   "outputs": [],
   "source": [
    "#q10. How can you tell the difference between break and continue?"
   ]
  },
  {
   "cell_type": "code",
   "execution_count": null,
   "id": "e79b92cd",
   "metadata": {},
   "outputs": [],
   "source": [
    "#q10 answer:\n",
    "1. break stops the continuation of the loop. Continue doesn't stop the continuation of the loop but it stops the current one.\n",
    "2. break is useful if condition always evaluates to be True. Continue is useful if wants to skip execution of few \n",
    "statements inside the loop for any particular iteration"
   ]
  },
  {
   "cell_type": "code",
   "execution_count": null,
   "id": "fb7ea19d",
   "metadata": {},
   "outputs": [],
   "source": [
    "#q11. In a for loop, what is the difference between range(10), range(0, 10), and range(0, 10, 1)?"
   ]
  },
  {
   "cell_type": "code",
   "execution_count": 19,
   "id": "6e796c14",
   "metadata": {},
   "outputs": [
    {
     "name": "stdout",
     "output_type": "stream",
     "text": [
      "0\n",
      "1\n",
      "2\n",
      "3\n",
      "4\n",
      "5\n",
      "6\n",
      "7\n",
      "8\n",
      "9\n"
     ]
    }
   ],
   "source": [
    "for i in range(10): #so range(10) means basically range(0,10) which will hold data from 0 to 9.\n",
    "    print(i)"
   ]
  },
  {
   "cell_type": "code",
   "execution_count": 20,
   "id": "58bdde36",
   "metadata": {},
   "outputs": [
    {
     "name": "stdout",
     "output_type": "stream",
     "text": [
      "0\n",
      "1\n",
      "2\n",
      "3\n",
      "4\n",
      "5\n",
      "6\n",
      "7\n",
      "8\n",
      "9\n"
     ]
    }
   ],
   "source": [
    "for i in range(0,10): #range(0,10) holds data from 0 to 9.\n",
    "    print(i)"
   ]
  },
  {
   "cell_type": "code",
   "execution_count": 21,
   "id": "588d7ebb",
   "metadata": {},
   "outputs": [
    {
     "name": "stdout",
     "output_type": "stream",
     "text": [
      "0\n",
      "1\n",
      "2\n",
      "3\n",
      "4\n",
      "5\n",
      "6\n",
      "7\n",
      "8\n",
      "9\n"
     ]
    }
   ],
   "source": [
    "for i in range(0,10,1): #range(0,10,1) holds data from 0 to 9 with ajump of 1 towards right direction. so the output is same.\n",
    "    print(i)"
   ]
  },
  {
   "cell_type": "code",
   "execution_count": null,
   "id": "c9f039e3",
   "metadata": {},
   "outputs": [],
   "source": [
    "#q12: Write a short program that prints the numbers 1 to 10 using a for loop. Then write an equivalent\n",
    "# program that prints the numbers 1 to 10 using a while loop."
   ]
  },
  {
   "cell_type": "code",
   "execution_count": null,
   "id": "31cb5916",
   "metadata": {},
   "outputs": [],
   "source": [
    "#q12 answer:\n",
    "#Print 1 to 10 using For loop"
   ]
  },
  {
   "cell_type": "code",
   "execution_count": 22,
   "id": "3f7ac628",
   "metadata": {},
   "outputs": [
    {
     "name": "stdout",
     "output_type": "stream",
     "text": [
      "1\n",
      "2\n",
      "3\n",
      "4\n",
      "5\n",
      "6\n",
      "7\n",
      "8\n",
      "9\n",
      "10\n"
     ]
    }
   ],
   "source": [
    "for i in range(1,11) :\n",
    "    print(i)"
   ]
  },
  {
   "cell_type": "code",
   "execution_count": null,
   "id": "1ff342ac",
   "metadata": {},
   "outputs": [],
   "source": [
    "#Print 1 to 10 using while loop"
   ]
  },
  {
   "cell_type": "code",
   "execution_count": 23,
   "id": "9a07f862",
   "metadata": {},
   "outputs": [
    {
     "name": "stdout",
     "output_type": "stream",
     "text": [
      "1\n",
      "2\n",
      "3\n",
      "4\n",
      "5\n",
      "6\n",
      "7\n",
      "8\n",
      "9\n",
      "10\n"
     ]
    }
   ],
   "source": [
    "a = 1\n",
    "while (a<=10) :\n",
    "    print(a)\n",
    "    a+=1"
   ]
  },
  {
   "cell_type": "code",
   "execution_count": null,
   "id": "7e3f0080",
   "metadata": {},
   "outputs": [],
   "source": [
    "#q13. If you had a function named bacon() inside a module named spam, how would you call it after importing spam?"
   ]
  },
  {
   "cell_type": "code",
   "execution_count": null,
   "id": "9dce30a0",
   "metadata": {},
   "outputs": [],
   "source": [
    "#q13 answer:\n",
    "import spam\n",
    "spam.bacon()"
   ]
  },
  {
   "cell_type": "code",
   "execution_count": null,
   "id": "0a3d9cfc",
   "metadata": {},
   "outputs": [],
   "source": []
  }
 ],
 "metadata": {
  "kernelspec": {
   "display_name": "Python 3 (ipykernel)",
   "language": "python",
   "name": "python3"
  },
  "language_info": {
   "codemirror_mode": {
    "name": "ipython",
    "version": 3
   },
   "file_extension": ".py",
   "mimetype": "text/x-python",
   "name": "python",
   "nbconvert_exporter": "python",
   "pygments_lexer": "ipython3",
   "version": "3.9.7"
  }
 },
 "nbformat": 4,
 "nbformat_minor": 5
}
